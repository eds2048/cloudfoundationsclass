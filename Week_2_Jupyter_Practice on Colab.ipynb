{
  "nbformat": 4,
  "nbformat_minor": 5,
  "metadata": {
    "kernelspec": {
      "display_name": "Python 3",
      "language": "python",
      "name": "python3"
    },
    "language_info": {
      "codemirror_mode": {
        "name": "ipython",
        "version": 3
      },
      "file_extension": ".py",
      "mimetype": "text/x-python",
      "name": "python",
      "nbconvert_exporter": "python",
      "pygments_lexer": "ipython3",
      "version": "3.9.5"
    },
    "colab": {
      "name": "Week 2 Jupyter Practice.ipynb",
      "provenance": [],
      "include_colab_link": true
    }
  },
  "cells": [
    {
      "cell_type": "markdown",
      "metadata": {
        "id": "view-in-github",
        "colab_type": "text"
      },
      "source": [
        "<a href=\"https://colab.research.google.com/github/eds2048/cloudfoundationsclass/blob/main/Week_2_Jupyter_Practice%20on%20Colab.ipynb\" target=\"_parent\"><img src=\"https://colab.research.google.com/assets/colab-badge.svg\" alt=\"Open In Colab\"/></a>"
      ]
    },
    {
      "cell_type": "code",
      "metadata": {
        "id": "a067fded",
        "outputId": "a8e6afbd-20fd-4d84-fab7-ce8ba6b7a21e"
      },
      "source": [
        "print (\"hello world\")"
      ],
      "id": "a067fded",
      "execution_count": null,
      "outputs": [
        {
          "output_type": "stream",
          "text": [
            "hello world\n"
          ],
          "name": "stdout"
        }
      ]
    },
    {
      "cell_type": "markdown",
      "metadata": {
        "id": "97ce7c4a"
      },
      "source": [
        "## Here is my title"
      ],
      "id": "97ce7c4a"
    },
    {
      "cell_type": "markdown",
      "metadata": {
        "id": "3c6f9765"
      },
      "source": [
        "### Here's another title\n"
      ],
      "id": "3c6f9765"
    },
    {
      "cell_type": "markdown",
      "metadata": {
        "id": "7cbeee70"
      },
      "source": [
        "## here is a markdown cell\n"
      ],
      "id": "7cbeee70"
    },
    {
      "cell_type": "markdown",
      "metadata": {
        "id": "f83d2fb9"
      },
      "source": [
        "Here's some markdown **bold** or *italic*"
      ],
      "id": "f83d2fb9"
    },
    {
      "cell_type": "markdown",
      "metadata": {
        "id": "4efd857b"
      },
      "source": [
        "*This entire text will be italic*"
      ],
      "id": "4efd857b"
    },
    {
      "cell_type": "markdown",
      "metadata": {
        "id": "ec9503e3"
      },
      "source": [
        "* Item 1\n",
        "* Item 2\n",
        "    * Item 2a\n",
        "    * Item 2b\n",
        "\n"
      ],
      "id": "ec9503e3"
    },
    {
      "cell_type": "markdown",
      "metadata": {
        "id": "5e6e52bb"
      },
      "source": [
        "[Github](www.github.com)\n"
      ],
      "id": "5e6e52bb"
    },
    {
      "cell_type": "markdown",
      "metadata": {
        "id": "599702f2"
      },
      "source": [
        "> Here's a quote\n",
        "\n",
        "> Another quote"
      ],
      "id": "599702f2"
    },
    {
      "cell_type": "markdown",
      "metadata": {
        "id": "d6c5b897"
      },
      "source": [
        "Inline code\n",
        "`<addr>` element here instead."
      ],
      "id": "d6c5b897"
    },
    {
      "cell_type": "code",
      "metadata": {
        "scrolled": true,
        "id": "da292424"
      },
      "source": [
        ""
      ],
      "id": "da292424",
      "execution_count": null,
      "outputs": []
    }
  ]
}