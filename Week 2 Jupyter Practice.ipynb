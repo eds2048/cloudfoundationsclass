{
 "cells": [
  {
   "cell_type": "code",
   "execution_count": 1,
   "id": "a067fded",
   "metadata": {},
   "outputs": [
    {
     "name": "stdout",
     "output_type": "stream",
     "text": [
      "hello world\n"
     ]
    }
   ],
   "source": [
    "print (\"hello world\")"
   ]
  },
  {
   "cell_type": "markdown",
   "id": "97ce7c4a",
   "metadata": {},
   "source": [
    "## Here is my title"
   ]
  },
  {
   "cell_type": "markdown",
   "id": "3c6f9765",
   "metadata": {},
   "source": [
    "### Here's another title\n"
   ]
  },
  {
   "cell_type": "markdown",
   "id": "7cbeee70",
   "metadata": {},
   "source": [
    "## here is a markdown cell\n"
   ]
  },
  {
   "cell_type": "markdown",
   "id": "f83d2fb9",
   "metadata": {},
   "source": [
    "Here's some markdown **bold** or *italic*"
   ]
  },
  {
   "cell_type": "markdown",
   "id": "4efd857b",
   "metadata": {},
   "source": [
    "*This entire text will be italic*"
   ]
  },
  {
   "cell_type": "markdown",
   "id": "ec9503e3",
   "metadata": {},
   "source": [
    "* Item 1\n",
    "* Item 2\n",
    "    * Item 2a\n",
    "    * Item 2b\n",
    "\n"
   ]
  },
  {
   "cell_type": "markdown",
   "id": "5e6e52bb",
   "metadata": {},
   "source": [
    "[Github](www.github.com)\n"
   ]
  },
  {
   "cell_type": "markdown",
   "id": "599702f2",
   "metadata": {},
   "source": [
    "> Here's a quote\n",
    "\n",
    "> Another quote"
   ]
  },
  {
   "cell_type": "markdown",
   "id": "d6c5b897",
   "metadata": {},
   "source": [
    "Inline code\n",
    "`<addr>` element here instead."
   ]
  },
  {
   "cell_type": "code",
   "execution_count": null,
   "id": "da292424",
   "metadata": {
    "scrolled": true
   },
   "outputs": [],
   "source": []
  }
 ],
 "metadata": {
  "kernelspec": {
   "display_name": "Python 3",
   "language": "python",
   "name": "python3"
  },
  "language_info": {
   "codemirror_mode": {
    "name": "ipython",
    "version": 3
   },
   "file_extension": ".py",
   "mimetype": "text/x-python",
   "name": "python",
   "nbconvert_exporter": "python",
   "pygments_lexer": "ipython3",
   "version": "3.9.5"
  }
 },
 "nbformat": 4,
 "nbformat_minor": 5
}
